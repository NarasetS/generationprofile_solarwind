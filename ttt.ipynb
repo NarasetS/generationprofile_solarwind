{
 "cells": [
  {
   "cell_type": "code",
   "execution_count": 5,
   "metadata": {},
   "outputs": [],
   "source": [
    "import geopandas as gpd\n",
    "import xarray as xr\n",
    "import numpy as np\n",
    "import matplotlib.pyplot as plt\n",
    "import shapely.wkt\n",
    "import shapely.geometry\n",
    "import pandas as pd\n",
    "import shapely.geometry.multipolygon as sh"
   ]
  },
  {
   "cell_type": "code",
   "execution_count": 6,
   "metadata": {},
   "outputs": [
    {
     "name": "stdout",
     "output_type": "stream",
     "text": [
      "<xarray.Dataset> Size: 59MB\n",
      "Dimensions:               (x: 8, y: 15, time: 8832)\n",
      "Coordinates:\n",
      "  * x                     (x) int32 32B 98 99 100 101 102 103 104 105\n",
      "  * y                     (y) int32 60B 6 7 8 9 10 11 12 13 14 15 16 17 18 19 20\n",
      "  * time                  (time) datetime64[ns] 71kB 2019-12-31 ... 2021-01-0...\n",
      "    lon                   (x) float64 64B ...\n",
      "    lat                   (y) float64 120B ...\n",
      "Data variables: (12/13)\n",
      "    height                (y, x) float32 480B ...\n",
      "    wnd100m               (time, y, x) float32 4MB ...\n",
      "    wnd_azimuth           (time, y, x) float32 4MB ...\n",
      "    roughness             (time, y, x) float32 4MB ...\n",
      "    influx_toa            (time, y, x) float32 4MB ...\n",
      "    influx_direct         (time, y, x) float32 4MB ...\n",
      "    ...                    ...\n",
      "    albedo                (time, y, x) float32 4MB ...\n",
      "    solar_altitude        (time, y, x) float64 8MB ...\n",
      "    solar_azimuth         (time, y, x) float64 8MB ...\n",
      "    temperature           (time, y, x) float32 4MB ...\n",
      "    soil temperature      (time, y, x) float32 4MB ...\n",
      "    dewpoint temperature  (time, y, x) float32 4MB ...\n",
      "Attributes:\n",
      "    module:                  era5\n",
      "    prepared_features:       ['temperature', 'height', 'influx', 'wind']\n",
      "    chunksize_time:          100\n",
      "    dt:                      h\n",
      "    dx:                      1\n",
      "    dy:                      1\n",
      "    GRIB_centre:             ecmf\n",
      "    GRIB_centreDescription:  European Centre for Medium-Range Weather Forecasts\n",
      "    GRIB_subCentre:          0\n",
      "    Conventions:             CF-1.7\n",
      "    institution:             European Centre for Medium-Range Weather Forecasts\n",
      "    history:                 2024-09-13T13:14 GRIB to CDM+CF via cfgrib-0.9.1...\n"
     ]
    }
   ],
   "source": [
    "test = xr.open_dataset('CDS_Data\\\\2020.nc')\n",
    "print(test)"
   ]
  },
  {
   "cell_type": "code",
   "execution_count": 7,
   "metadata": {},
   "outputs": [
    {
     "name": "stderr",
     "output_type": "stream",
     "text": [
      "c:\\Workstation\\generationprofile_solarwind\\env\\Lib\\site-packages\\pyproj\\crs\\crs.py:141: FutureWarning: '+init=<authority>:<code>' syntax is deprecated. '<authority>:<code>' is the preferred initialization method. When making the change, be mindful of axis order changes: https://pyproj4.github.io/pyproj/stable/gotchas.html#axis-order-changes-in-proj-6\n",
      "  in_crs_string = _prepare_from_proj_string(in_crs_string)\n",
      "C:\\Users\\basna\\AppData\\Local\\Temp\\ipykernel_7060\\3569130382.py:4: DeprecationWarning: The 'unary_union' attribute is deprecated, use the 'union_all()' method instead.\n",
      "  min_lon = thailandmap.unary_union.bounds[0]\n",
      "C:\\Users\\basna\\AppData\\Local\\Temp\\ipykernel_7060\\3569130382.py:5: DeprecationWarning: The 'unary_union' attribute is deprecated, use the 'union_all()' method instead.\n",
      "  max_lon = thailandmap.unary_union.bounds[2]\n",
      "C:\\Users\\basna\\AppData\\Local\\Temp\\ipykernel_7060\\3569130382.py:6: DeprecationWarning: The 'unary_union' attribute is deprecated, use the 'union_all()' method instead.\n",
      "  max_lat = thailandmap.unary_union.bounds[1]\n",
      "C:\\Users\\basna\\AppData\\Local\\Temp\\ipykernel_7060\\3569130382.py:7: DeprecationWarning: The 'unary_union' attribute is deprecated, use the 'union_all()' method instead.\n",
      "  min_lat = thailandmap.unary_union.bounds[3]\n"
     ]
    }
   ],
   "source": [
    "## First, I try to create a bouadary of THialand for acquiring data##\n",
    "thailandmap = gpd.read_file('assets\\\\tha_admbnda_adm1_rtsd_20220121\\\\tha_admbnda_adm1_rtsd_20220121.shp')\n",
    "thailandmap.crs = {'init': 'epsg:4326'}\n",
    "min_lon = thailandmap.unary_union.bounds[0]\n",
    "max_lon = thailandmap.unary_union.bounds[2]\n",
    "max_lat = thailandmap.unary_union.bounds[1]\n",
    "min_lat = thailandmap.unary_union.bounds[3]"
   ]
  },
  {
   "cell_type": "code",
   "execution_count": 11,
   "metadata": {},
   "outputs": [
    {
     "name": "stdout",
     "output_type": "stream",
     "text": [
      "<xarray.DataArray 'time' (time: 8832)> Size: 71kB\n",
      "array(['2019-12-31T00:00:00.000000000', '2019-12-31T01:00:00.000000000',\n",
      "       '2019-12-31T02:00:00.000000000', ..., '2021-01-01T21:00:00.000000000',\n",
      "       '2021-01-01T22:00:00.000000000', '2021-01-01T23:00:00.000000000'],\n",
      "      dtype='datetime64[ns]')\n",
      "Coordinates:\n",
      "  * time     (time) datetime64[ns] 71kB 2019-12-31 ... 2021-01-01T23:00:00\n"
     ]
    }
   ],
   "source": [
    "print(test.time)"
   ]
  },
  {
   "cell_type": "code",
   "execution_count": 13,
   "metadata": {},
   "outputs": [
    {
     "data": {
      "text/plain": [
       "(array([0., 0., 0., 0., 0., 0., 0., 0., 0., 0.]),\n",
       " array([0. , 0.1, 0.2, 0.3, 0.4, 0.5, 0.6, 0.7, 0.8, 0.9, 1. ]),\n",
       " <BarContainer object of 10 artists>)"
      ]
     },
     "execution_count": 13,
     "metadata": {},
     "output_type": "execute_result"
    },
    {
     "data": {
      "image/png": "[encoded data removed]",
      "text/plain": [
       "<Figure size 1000x1000 with 1 Axes>"
      ]
     },
     "metadata": {},
     "output_type": "display_data"
    }
   ],
   "source": [
    "fig, ax = plt.subplots(figsize=(10,10))\n",
    "fig.suptitle(str(type), fontsize=16)\n",
    "thailandmap.plot(ax = ax, color='none', edgecolor = 'black', zorder = 0,alpha = 0.1)\n",
    "test['influx_direct'].where(test.time== '2019-12-31T12:00:00.000000000').plot(ax = ax,zorder = 1)"
   ]
  }
 ],
 "metadata": {
  "kernelspec": {
   "display_name": "env",
   "language": "python",
   "name": "python3"
  },
  "language_info": {
   "codemirror_mode": {
    "name": "ipython",
    "version": 3
   },
   "file_extension": ".py",
   "mimetype": "text/x-python",
   "name": "python",
   "nbconvert_exporter": "python",
   "pygments_lexer": "ipython3",
   "version": "3.11.5"
  }
 },
 "nbformat": 4,
 "nbformat_minor": 2
}
