{
 "cells": [
  {
   "cell_type": "code",
   "execution_count": 49,
   "metadata": {},
   "outputs": [],
   "source": [
    "import pandas as pd\n",
    "import cdsapi\n",
    "import atlite\n",
    "import datetime as dt\n",
    "import matplotlib.pyplot as plt\n",
    "import numpy as np"
   ]
  },
  {
   "cell_type": "code",
   "execution_count": 50,
   "metadata": {},
   "outputs": [
    {
     "name": "stdout",
     "output_type": "stream",
     "text": [
      "Index(['REF', 'BCPG-N[MCC_BCP-N(MW)]', 'EAN-N[R4_EAN-N(MW)]',\n",
      "       'NED-N[R1_NED-N(MW)]', 'SSP-N[R1_SSP-N(MW)]', 'EAL-N[R4_EAL-N(MW)]',\n",
      "       'EAP-N[R4_EAP-N(MW)]'],\n",
      "      dtype='object')\n"
     ]
    }
   ],
   "source": [
    "df = pd.read_excel('CDS_Data_Validation\\\\2019-2022 Solar Profile SPP rev.xlsx', sheet_name = '2019-2022_Central',skiprows=4)\n",
    "df = df.merge(pd.read_excel('CDS_Data_Validation\\\\2019-2022 Solar Profile SPP rev.xlsx', sheet_name = '2019-2022_North',skiprows=4))\n",
    "print(df.columns)"
   ]
  },
  {
   "cell_type": "code",
   "execution_count": 51,
   "metadata": {},
   "outputs": [
    {
     "name": "stdout",
     "output_type": "stream",
     "text": [
      "<class 'pandas.core.frame.DataFrame'>\n",
      "DatetimeIndex: 35065 entries, 2019-01-01 00:00:00 to 2023-01-01 00:00:00\n",
      "Data columns (total 6 columns):\n",
      " #   Column                 Non-Null Count  Dtype  \n",
      "---  ------                 --------------  -----  \n",
      " 0   BCPG-N[MCC_BCP-N(MW)]  35065 non-null  float64\n",
      " 1   EAN-N[R4_EAN-N(MW)]    35065 non-null  float64\n",
      " 2   NED-N[R1_NED-N(MW)]    35065 non-null  float64\n",
      " 3   SSP-N[R1_SSP-N(MW)]    35065 non-null  float64\n",
      " 4   EAL-N[R4_EAL-N(MW)]    35065 non-null  float64\n",
      " 5   EAP-N[R4_EAP-N(MW)]    35065 non-null  float64\n",
      "dtypes: float64(6)\n",
      "memory usage: 1.9 MB\n",
      "None\n"
     ]
    }
   ],
   "source": [
    "### Aggreate to hourly data by using mean function ###\n",
    "df['index_time'] = pd.to_datetime(df[\"REF\"].dt.strftime('%Y-%m-%d-%H'))\n",
    "df = df.drop(columns=['REF'])\n",
    "df = df.groupby(by=[\"index_time\"], dropna=False).mean()\n",
    "print(df.info())"
   ]
  },
  {
   "cell_type": "code",
   "execution_count": 52,
   "metadata": {},
   "outputs": [
    {
     "name": "stdout",
     "output_type": "stream",
     "text": [
      "Index(['BCPG-N[MCC_BCP-N(MW)]', 'EAN-N[R4_EAN-N(MW)]', 'NED-N[R1_NED-N(MW)]',\n",
      "       'SSP-N[R1_SSP-N(MW)]', 'EAL-N[R4_EAL-N(MW)]', 'EAP-N[R4_EAP-N(MW)]'],\n",
      "      dtype='object')\n"
     ]
    }
   ],
   "source": [
    "### To cap the generation by installed capacity  ###\n",
    "print(df.columns)"
   ]
  },
  {
   "cell_type": "code",
   "execution_count": 53,
   "metadata": {},
   "outputs": [
    {
     "name": "stdout",
     "output_type": "stream",
     "text": [
      "<class 'pandas.core.frame.DataFrame'>\n",
      "DatetimeIndex: 35065 entries, 2019-01-01 00:00:00 to 2023-01-01 00:00:00\n",
      "Data columns (total 6 columns):\n",
      " #   Column                 Non-Null Count  Dtype  \n",
      "---  ------                 --------------  -----  \n",
      " 0   BCPG-N[MCC_BCP-N(MW)]  35065 non-null  float64\n",
      " 1   EAN-N[R4_EAN-N(MW)]    35065 non-null  float64\n",
      " 2   NED-N[R1_NED-N(MW)]    35065 non-null  float64\n",
      " 3   SSP-N[R1_SSP-N(MW)]    35065 non-null  float64\n",
      " 4   EAL-N[R4_EAL-N(MW)]    35065 non-null  float64\n",
      " 5   EAP-N[R4_EAP-N(MW)]    35065 non-null  float64\n",
      "dtypes: float64(6)\n",
      "memory usage: 1.9 MB\n",
      "None\n"
     ]
    },
    {
     "name": "stderr",
     "output_type": "stream",
     "text": [
      "C:\\Users\\595078\\AppData\\Local\\Temp\\ipykernel_23272\\1061966536.py:11: FutureWarning: ChainedAssignmentError: behaviour will change in pandas 3.0!\n",
      "You are setting values through chained assignment. Currently this works in certain cases, but when using Copy-on-Write (which will become the default behaviour in pandas 3.0) this will never work to update the original DataFrame or Series, because the intermediate object on which we are setting values will behave as a copy.\n",
      "A typical example is when you are setting values in a column of a DataFrame, like:\n",
      "\n",
      "df[\"col\"][row_indexer] = value\n",
      "\n",
      "Use `df.loc[row_indexer, \"col\"] = values` instead, to perform the assignment in a single step and ensure this keeps updating the original `df`.\n",
      "\n",
      "See the caveats in the documentation: https://pandas.pydata.org/pandas-docs/stable/user_guide/indexing.html#returning-a-view-versus-a-copy\n",
      "\n",
      "  df[df.columns[i]].loc[df[df.columns[i]] > installed_capacity[i]] = installed_capacity[i]\n",
      "C:\\Users\\595078\\AppData\\Local\\Temp\\ipykernel_23272\\1061966536.py:11: FutureWarning: ChainedAssignmentError: behaviour will change in pandas 3.0!\n",
      "You are setting values through chained assignment. Currently this works in certain cases, but when using Copy-on-Write (which will become the default behaviour in pandas 3.0) this will never work to update the original DataFrame or Series, because the intermediate object on which we are setting values will behave as a copy.\n",
      "A typical example is when you are setting values in a column of a DataFrame, like:\n",
      "\n",
      "df[\"col\"][row_indexer] = value\n",
      "\n",
      "Use `df.loc[row_indexer, \"col\"] = values` instead, to perform the assignment in a single step and ensure this keeps updating the original `df`.\n",
      "\n",
      "See the caveats in the documentation: https://pandas.pydata.org/pandas-docs/stable/user_guide/indexing.html#returning-a-view-versus-a-copy\n",
      "\n",
      "  df[df.columns[i]].loc[df[df.columns[i]] > installed_capacity[i]] = installed_capacity[i]\n",
      "C:\\Users\\595078\\AppData\\Local\\Temp\\ipykernel_23272\\1061966536.py:11: FutureWarning: ChainedAssignmentError: behaviour will change in pandas 3.0!\n",
      "You are setting values through chained assignment. Currently this works in certain cases, but when using Copy-on-Write (which will become the default behaviour in pandas 3.0) this will never work to update the original DataFrame or Series, because the intermediate object on which we are setting values will behave as a copy.\n",
      "A typical example is when you are setting values in a column of a DataFrame, like:\n",
      "\n",
      "df[\"col\"][row_indexer] = value\n",
      "\n",
      "Use `df.loc[row_indexer, \"col\"] = values` instead, to perform the assignment in a single step and ensure this keeps updating the original `df`.\n",
      "\n",
      "See the caveats in the documentation: https://pandas.pydata.org/pandas-docs/stable/user_guide/indexing.html#returning-a-view-versus-a-copy\n",
      "\n",
      "  df[df.columns[i]].loc[df[df.columns[i]] > installed_capacity[i]] = installed_capacity[i]\n",
      "C:\\Users\\595078\\AppData\\Local\\Temp\\ipykernel_23272\\1061966536.py:11: FutureWarning: ChainedAssignmentError: behaviour will change in pandas 3.0!\n",
      "You are setting values through chained assignment. Currently this works in certain cases, but when using Copy-on-Write (which will become the default behaviour in pandas 3.0) this will never work to update the original DataFrame or Series, because the intermediate object on which we are setting values will behave as a copy.\n",
      "A typical example is when you are setting values in a column of a DataFrame, like:\n",
      "\n",
      "df[\"col\"][row_indexer] = value\n",
      "\n",
      "Use `df.loc[row_indexer, \"col\"] = values` instead, to perform the assignment in a single step and ensure this keeps updating the original `df`.\n",
      "\n",
      "See the caveats in the documentation: https://pandas.pydata.org/pandas-docs/stable/user_guide/indexing.html#returning-a-view-versus-a-copy\n",
      "\n",
      "  df[df.columns[i]].loc[df[df.columns[i]] > installed_capacity[i]] = installed_capacity[i]\n",
      "C:\\Users\\595078\\AppData\\Local\\Temp\\ipykernel_23272\\1061966536.py:11: FutureWarning: ChainedAssignmentError: behaviour will change in pandas 3.0!\n",
      "You are setting values through chained assignment. Currently this works in certain cases, but when using Copy-on-Write (which will become the default behaviour in pandas 3.0) this will never work to update the original DataFrame or Series, because the intermediate object on which we are setting values will behave as a copy.\n",
      "A typical example is when you are setting values in a column of a DataFrame, like:\n",
      "\n",
      "df[\"col\"][row_indexer] = value\n",
      "\n",
      "Use `df.loc[row_indexer, \"col\"] = values` instead, to perform the assignment in a single step and ensure this keeps updating the original `df`.\n",
      "\n",
      "See the caveats in the documentation: https://pandas.pydata.org/pandas-docs/stable/user_guide/indexing.html#returning-a-view-versus-a-copy\n",
      "\n",
      "  df[df.columns[i]].loc[df[df.columns[i]] > installed_capacity[i]] = installed_capacity[i]\n",
      "C:\\Users\\595078\\AppData\\Local\\Temp\\ipykernel_23272\\1061966536.py:11: FutureWarning: ChainedAssignmentError: behaviour will change in pandas 3.0!\n",
      "You are setting values through chained assignment. Currently this works in certain cases, but when using Copy-on-Write (which will become the default behaviour in pandas 3.0) this will never work to update the original DataFrame or Series, because the intermediate object on which we are setting values will behave as a copy.\n",
      "A typical example is when you are setting values in a column of a DataFrame, like:\n",
      "\n",
      "df[\"col\"][row_indexer] = value\n",
      "\n",
      "Use `df.loc[row_indexer, \"col\"] = values` instead, to perform the assignment in a single step and ensure this keeps updating the original `df`.\n",
      "\n",
      "See the caveats in the documentation: https://pandas.pydata.org/pandas-docs/stable/user_guide/indexing.html#returning-a-view-versus-a-copy\n",
      "\n",
      "  df[df.columns[i]].loc[df[df.columns[i]] > installed_capacity[i]] = installed_capacity[i]\n"
     ]
    }
   ],
   "source": [
    "installed_capacity = [\n",
    "    34.2,\n",
    "    126.126,\n",
    "    73,\n",
    "    52,\n",
    "    128.396,\n",
    "    133.92\n",
    "]\n",
    "\n",
    "for i in range(len(df.columns)):\n",
    "    df[df.columns[i]].loc[df[df.columns[i]] > installed_capacity[i]] = installed_capacity[i]\n",
    "    df[df.columns[i]] = df[df.columns[i]]/installed_capacity[i]\n",
    "\n",
    "\n",
    "data_actual = df.copy()\n",
    "print(data_actual.info())"
   ]
  },
  {
   "cell_type": "code",
   "execution_count": 54,
   "metadata": {},
   "outputs": [],
   "source": [
    "df = pd.DataFrame()\n",
    "df = pd.concat([df,pd.read_csv('CDS_Data_Validation\\\\output_Thailand_Solar_2019_km2_10.0.csv')])\n",
    "df['time_utcadj'] = pd.to_datetime(df['time_utcadj'])\n",
    "df = pd.concat([df,pd.read_csv('CDS_Data_Validation\\\\output_Thailand_Solar_2020_km2_10.0.csv')])\n",
    "df['time_utcadj'] = pd.to_datetime(df['time_utcadj'])\n",
    "df = pd.concat([df,pd.read_csv('CDS_Data_Validation\\\\output_Thailand_Solar_2021_km2_10.0.csv')])\n",
    "df['time_utcadj'] = pd.to_datetime(df['time_utcadj'])\n",
    "df = pd.concat([df,pd.read_csv('CDS_Data_Validation\\\\output_Thailand_Solar_2022_km2_10.0.csv')])\n",
    "df['time_utcadj'] = pd.to_datetime(df['time_utcadj'])\n",
    "df = df.set_index('time_utcadj')\n",
    "\n",
    "year = 2020\n",
    "df = df.loc[df.index.year == year]\n",
    "data_actual = data_actual.loc[data_actual.index.year == year]\n"
   ]
  },
  {
   "cell_type": "code",
   "execution_count": 55,
   "metadata": {},
   "outputs": [
    {
     "data": {
      "text/plain": [
       "Index(['BCPG-N[MCC_BCP-N(MW)]', 'EAN-N[R4_EAN-N(MW)]', 'NED-N[R1_NED-N(MW)]',\n",
       "       'SSP-N[R1_SSP-N(MW)]', 'EAL-N[R4_EAL-N(MW)]', 'EAP-N[R4_EAP-N(MW)]'],\n",
       "      dtype='object')"
      ]
     },
     "execution_count": 55,
     "metadata": {},
     "output_type": "execute_result"
    }
   ],
   "source": [
    "name_list = data_actual.columns\n",
    "name_list"
   ]
  },
  {
   "cell_type": "code",
   "execution_count": 56,
   "metadata": {},
   "outputs": [
    {
     "name": "stdout",
     "output_type": "stream",
     "text": [
      "BCPG-N[MCC_BCP-N(MW)]\n",
      "Acutal PF =  15.0187\n",
      "ERA5 PF =  16.8662\n",
      "\n",
      "EAN-N[R4_EAN-N(MW)]\n",
      "Acutal PF =  15.9393\n",
      "ERA5 PF =  17.1626\n",
      "\n",
      "NED-N[R1_NED-N(MW)]\n",
      "Acutal PF =  16.6817\n",
      "ERA5 PF =  17.3059\n",
      "\n",
      "SSP-N[R1_SSP-N(MW)]\n",
      "Acutal PF =  16.6914\n",
      "ERA5 PF =  17.3059\n",
      "\n",
      "EAL-N[R4_EAL-N(MW)]\n",
      "Acutal PF =  18.3832\n",
      "ERA5 PF =  17.143\n",
      "\n",
      "EAP-N[R4_EAP-N(MW)]\n",
      "Acutal PF =  18.8253\n",
      "ERA5 PF =  17.1694\n",
      "\n"
     ]
    }
   ],
   "source": [
    "for i in name_list:\n",
    "    print(i)\n",
    "    print('Acutal PF = ',np.round(data_actual[i].sum() * 100 /len(data_actual),4))\n",
    "    print('ERA5 PF = ',np.round(df[i].sum() * 100 /len(df),4))\n",
    "    print('')"
   ]
  },
  {
   "cell_type": "code",
   "execution_count": 57,
   "metadata": {},
   "outputs": [
    {
     "name": "stdout",
     "output_type": "stream",
     "text": [
      "BCPG-N[MCC_BCP-N(MW)]\n",
      "Acutal Gen MWh =  1319.2456\n",
      "ERA5 Gen MWh =  1481.5281\n",
      "Diff from actual percen  =  12.3\n",
      "\n",
      "EAN-N[R4_EAN-N(MW)]\n",
      "Acutal Gen MWh =  1400.1058\n",
      "ERA5 Gen MWh =  1507.5664\n",
      "Diff from actual percen  =  7.7\n",
      "\n",
      "NED-N[R1_NED-N(MW)]\n",
      "Acutal Gen MWh =  1465.3199\n",
      "ERA5 Gen MWh =  1520.1535\n",
      "Diff from actual percen  =  3.7\n",
      "\n",
      "SSP-N[R1_SSP-N(MW)]\n",
      "Acutal Gen MWh =  1466.1683\n",
      "ERA5 Gen MWh =  1520.1535\n",
      "Diff from actual percen  =  3.7\n",
      "\n",
      "EAL-N[R4_EAL-N(MW)]\n",
      "Acutal Gen MWh =  1614.7843\n",
      "ERA5 Gen MWh =  1505.84\n",
      "Diff from actual percen  =  -6.7\n",
      "\n",
      "EAP-N[R4_EAP-N(MW)]\n",
      "Acutal Gen MWh =  1653.6141\n",
      "ERA5 Gen MWh =  1508.1586\n",
      "Diff from actual percen  =  -8.8\n",
      "\n"
     ]
    }
   ],
   "source": [
    "for i in name_list:\n",
    "    print(i)\n",
    "    print('Acutal Gen MWh = ',np.round(data_actual[i].sum(),4))\n",
    "    print('ERA5 Gen MWh = ',np.round(df[i].sum(),4))\n",
    "    print('Diff from actual percen  = ', np.round((df[i].sum() - data_actual[i].sum())*100/data_actual[i].sum(),1))\n",
    "    print('')"
   ]
  },
  {
   "cell_type": "code",
   "execution_count": 58,
   "metadata": {},
   "outputs": [
    {
     "name": "stdout",
     "output_type": "stream",
     "text": [
      "    BCPG-N[MCC_BCP-N(MW)]  EAN-N[R4_EAN-N(MW)]  NED-N[R1_NED-N(MW)]  \\\n",
      "0                    27.9                 27.1                 18.6   \n",
      "1                    25.1                 20.9                 15.5   \n",
      "2                    19.5                 22.2                 13.8   \n",
      "3                    18.9                 20.5                  3.0   \n",
      "4                    10.2                 10.0                  7.4   \n",
      "5                     3.0                  3.3                  1.9   \n",
      "6                    -0.6                  4.3                  0.5   \n",
      "7                    14.0                 -9.3                 -4.2   \n",
      "8                    14.7                  1.3                 -4.9   \n",
      "9                     1.1                 -5.9                 -4.6   \n",
      "10                   11.5                  5.8                  4.0   \n",
      "11                   16.9                  7.2                  3.9   \n",
      "\n",
      "    SSP-N[R1_SSP-N(MW)]  EAL-N[R4_EAL-N(MW)]  EAP-N[R4_EAP-N(MW)]  \n",
      "0                   4.6                 20.2                 19.2  \n",
      "1                   1.4                  8.7                  9.7  \n",
      "2                  -0.4                  8.2                  6.6  \n",
      "3                  -7.9                  1.6                 -3.1  \n",
      "4                  -6.4                -32.0                -32.3  \n",
      "5                 -18.9                -41.8                -47.1  \n",
      "6                 -21.3                -23.2                -30.4  \n",
      "7                  83.0                -23.6                -32.2  \n",
      "8                  39.5                -17.3                -20.2  \n",
      "9                  -7.5                 -5.1                -14.2  \n",
      "10                 -9.3                 -5.8                 -5.0  \n",
      "11                 -2.9                  1.2                  3.5  \n"
     ]
    }
   ],
   "source": [
    "gen_difffromactual = pd.DataFrame()\n",
    "for i in name_list:\n",
    "    gen_actual_month_list = [(data_actual[i].loc[data_actual.index.month == (j+1)].sum()) for j in range(12)]\n",
    "    gen_era5_month_list = [(df[i].loc[df.index.month == (j+1)].sum()) for j in range(12)]\n",
    "    gen_difffromactual_list = [(gen_era5_month_list[j] - gen_actual_month_list[j]) for j in range(12)]\n",
    "    gen_difffromactual[i] = pd.DataFrame(gen_difffromactual_list)\n",
    "print(np.round(gen_difffromactual,1))"
   ]
  },
  {
   "cell_type": "code",
   "execution_count": 59,
   "metadata": {},
   "outputs": [
    {
     "name": "stdout",
     "output_type": "stream",
     "text": [
      "pf actual (%) =      BCPG-N[MCC_BCP-N(MW)]  EAN-N[R4_EAN-N(MW)]  NED-N[R1_NED-N(MW)]  \\\n",
      "0                    14.2                 14.8                 16.2   \n",
      "1                    15.5                 16.9                 17.6   \n",
      "2                    17.2                 17.2                 18.2   \n",
      "3                    16.3                 17.0                 19.3   \n",
      "4                    16.1                 17.1                 17.5   \n",
      "5                    16.5                 16.5                 17.3   \n",
      "6                    16.5                 16.3                 16.9   \n",
      "7                    13.0                 15.4                 15.6   \n",
      "8                    13.1                 15.5                 16.3   \n",
      "9                    11.5                 10.9                 11.5   \n",
      "10                   15.5                 16.4                 16.8   \n",
      "11                   14.9                 17.3                 17.3   \n",
      "\n",
      "    SSP-N[R1_SSP-N(MW)]  EAL-N[R4_EAL-N(MW)]  EAP-N[R4_EAP-N(MW)]  \n",
      "0                  18.0                 16.5                 16.5  \n",
      "1                  19.6                 18.9                 18.7  \n",
      "2                  20.1                 20.5                 20.0  \n",
      "3                  20.8                 19.7                 20.5  \n",
      "4                  19.3                 23.1                 23.0  \n",
      "5                  20.2                 21.1                 22.7  \n",
      "6                  19.8                 19.2                 20.7  \n",
      "7                   3.9                 14.5                 16.5  \n",
      "8                  10.1                 16.9                 17.6  \n",
      "9                  11.8                 13.5                 13.5  \n",
      "10                 18.7                 18.4                 18.3  \n",
      "11                 18.2                 18.3                 18.0  \n"
     ]
    }
   ],
   "source": [
    "plantfactor_actual_monthly = pd.DataFrame()\n",
    "for i in name_list:\n",
    "    pf_month_list = [(data_actual[i].loc[data_actual.index.month == (j+1)].sum()/len(data_actual.loc[data_actual.index.month == (j+1)])) for j in range(12)]\n",
    "    \n",
    "    plantfactor_actual_monthly[i] = pd.DataFrame(pf_month_list)\n",
    "\n",
    "print(\"pf actual (%) = \",np.round(plantfactor_actual_monthly*100,1))"
   ]
  },
  {
   "cell_type": "code",
   "execution_count": 60,
   "metadata": {},
   "outputs": [
    {
     "name": "stdout",
     "output_type": "stream",
     "text": [
      "pf era5 (%) =      BCPG-N[MCC_BCP-N(MW)]  EAN-N[R4_EAN-N(MW)]  NED-N[R1_NED-N(MW)]  \\\n",
      "0                    17.9                 18.5                 18.7   \n",
      "1                    19.1                 19.9                 19.8   \n",
      "2                    19.8                 20.1                 20.1   \n",
      "3                    19.0                 19.9                 19.7   \n",
      "4                    17.4                 18.4                 18.5   \n",
      "5                    17.0                 17.0                 17.5   \n",
      "6                    16.4                 16.9                 16.9   \n",
      "7                    14.9                 14.1                 15.1   \n",
      "8                    15.1                 15.7                 15.6   \n",
      "9                    11.7                 10.1                 10.8   \n",
      "10                   17.1                 17.2                 17.4   \n",
      "11                   17.2                 18.2                 17.8   \n",
      "\n",
      "    SSP-N[R1_SSP-N(MW)]  EAL-N[R4_EAL-N(MW)]  EAP-N[R4_EAP-N(MW)]  \n",
      "0                  18.7                 19.2                 19.1  \n",
      "1                  19.8                 20.2                 20.1  \n",
      "2                  20.1                 21.6                 20.9  \n",
      "3                  19.7                 19.9                 20.1  \n",
      "4                  18.5                 18.8                 18.7  \n",
      "5                  17.5                 15.3                 16.1  \n",
      "6                  16.9                 16.1                 16.6  \n",
      "7                  15.1                 11.4                 12.2  \n",
      "8                  15.6                 14.5                 14.7  \n",
      "9                  10.8                 12.8                 11.6  \n",
      "10                 17.4                 17.6                 17.6  \n",
      "11                 17.8                 18.5                 18.5  \n"
     ]
    }
   ],
   "source": [
    "plantfactor_era5_monthly = pd.DataFrame()\n",
    "for i in name_list:\n",
    "    pf_month_list = [(df[i].loc[df.index.month == (j+1)].sum()/len(df.loc[df.index.month == (j+1)])) for j in range(12)]\n",
    "    \n",
    "    plantfactor_era5_monthly[i] = pd.DataFrame(pf_month_list)\n",
    "\n",
    "print(\"pf era5 (%) = \",np.round(plantfactor_era5_monthly*100,1))"
   ]
  },
  {
   "cell_type": "code",
   "execution_count": 61,
   "metadata": {},
   "outputs": [
    {
     "name": "stdout",
     "output_type": "stream",
     "text": [
      "pf era5 diff from actual (%) =      BCPG-N[MCC_BCP-N(MW)]  EAN-N[R4_EAN-N(MW)]  NED-N[R1_NED-N(MW)]  \\\n",
      "0                    26.4                 24.5                 15.5   \n",
      "1                    23.4                 17.8                 12.7   \n",
      "2                    15.3                 17.4                 10.2   \n",
      "3                    16.1                 16.7                  2.1   \n",
      "4                     8.5                  7.9                  5.7   \n",
      "5                     2.6                  2.8                  1.5   \n",
      "6                    -0.5                  3.6                  0.4   \n",
      "7                    14.4                 -8.2                 -3.7   \n",
      "8                    15.6                  1.2                 -4.2   \n",
      "9                     1.3                 -7.3                 -5.4   \n",
      "10                   10.3                  4.9                  3.3   \n",
      "11                   15.3                  5.6                  3.0   \n",
      "\n",
      "    SSP-N[R1_SSP-N(MW)]  EAL-N[R4_EAL-N(MW)]  EAP-N[R4_EAP-N(MW)]  \n",
      "0                   3.4                 16.5                 15.6  \n",
      "1                   1.0                  6.6                  7.5  \n",
      "2                  -0.3                  5.4                  4.4  \n",
      "3                  -5.2                  1.1                 -2.1  \n",
      "4                  -4.4                -18.6                -18.8  \n",
      "5                 -13.0                -27.5                -28.8  \n",
      "6                 -14.5                -16.2                -19.8  \n",
      "7                 286.4                -21.8                -26.2  \n",
      "8                  54.3                -14.2                -16.0  \n",
      "9                  -8.5                 -5.1                -14.1  \n",
      "10                 -6.9                 -4.4                 -3.8  \n",
      "11                 -2.1                  0.9                  2.6  \n"
     ]
    }
   ],
   "source": [
    "plantfactor_difffromactual = pd.DataFrame()\n",
    "for i in name_list:\n",
    "    pf_actual_month_list = [(data_actual[i].loc[data_actual.index.month == (j+1)].sum()/len(data_actual.loc[data_actual.index.month == (j+1)])) for j in range(12)]\n",
    "    pf_era5_month_list = [(df[i].loc[df.index.month == (j+1)].sum()/len(df.loc[df.index.month == (j+1)])) for j in range(12)]\n",
    "    pf_difffromactual_list = [( pf_era5_month_list[j] - pf_actual_month_list[j] ) / pf_actual_month_list[j] for j in range(12)]\n",
    "    plantfactor_difffromactual[i] = pd.DataFrame(pf_difffromactual_list)\n",
    "print(\"pf era5 diff from actual (%) = \",np.round(plantfactor_difffromactual*100,1))"
   ]
  },
  {
   "cell_type": "markdown",
   "metadata": {},
   "source": [
    "Measure, time series similarity"
   ]
  },
  {
   "cell_type": "code",
   "execution_count": 62,
   "metadata": {},
   "outputs": [
    {
     "data": {
      "text/plain": [
       "Index(['BCPG-N[MCC_BCP-N(MW)]', 'EAN-N[R4_EAN-N(MW)]', 'NED-N[R1_NED-N(MW)]',\n",
       "       'SSP-N[R1_SSP-N(MW)]', 'EAL-N[R4_EAL-N(MW)]', 'EAP-N[R4_EAP-N(MW)]'],\n",
       "      dtype='object')"
      ]
     },
     "execution_count": 62,
     "metadata": {},
     "output_type": "execute_result"
    }
   ],
   "source": [
    "name_list = data_actual.columns\n",
    "name_list"
   ]
  },
  {
   "cell_type": "code",
   "execution_count": 63,
   "metadata": {},
   "outputs": [
    {
     "name": "stdout",
     "output_type": "stream",
     "text": [
      "EAN-N[R4_EAN-N(MW)]\n"
     ]
    },
    {
     "data": {
      "text/plain": [
       "<Axes: xlabel='time_utcadj'>"
      ]
     },
     "execution_count": 63,
     "metadata": {},
     "output_type": "execute_result"
    },
    {
     "data": {
      "image/png": "[encoded data removed]",
      "text/plain": [
       "<Figure size 640x480 with 1 Axes>"
      ]
     },
     "metadata": {},
     "output_type": "display_data"
    }
   ],
   "source": [
    "name_index = 1\n",
    "day = 200\n",
    "spanday = 10\n",
    "print(name_list[name_index])\n",
    "data_actual[name_list[name_index]][(day*24):((day*24)+(24*spanday))].plot()\n",
    "df[name_list[name_index]][(day*24):((day*24)+(24*spanday))].plot()\n"
   ]
  },
  {
   "cell_type": "code",
   "execution_count": 64,
   "metadata": {},
   "outputs": [
    {
     "name": "stdout",
     "output_type": "stream",
     "text": [
      " year ======    2020\n",
      "                   \n",
      "BCPG-N[MCC_BCP-N(MW)]\n",
      "plant =  BCPG-N[MCC_BCP-N(MW)]\n",
      "          \n",
      "     correalation     \n",
      "          actual      era5\n",
      "actual  1.000000  0.845083\n",
      "era5    0.845083  1.000000\n",
      "          \n",
      "calc_euclidean 8.082596085192854\n",
      "calc_mae =  0.08967178272002567\n",
      "     \n",
      "EAN-N[R4_EAN-N(MW)]\n",
      "plant =  EAN-N[R4_EAN-N(MW)]\n",
      "          \n",
      "     correalation     \n",
      "          actual      era5\n",
      "actual  1.000000  0.847139\n",
      "era5    0.847139  1.000000\n",
      "          \n",
      "calc_euclidean 7.921051157359808\n",
      "calc_mae =  0.09224852958658758\n",
      "     \n",
      "NED-N[R1_NED-N(MW)]\n",
      "plant =  NED-N[R1_NED-N(MW)]\n",
      "          \n",
      "     correalation     \n",
      "          actual      era5\n",
      "actual  1.000000  0.830648\n",
      "era5    0.830648  1.000000\n",
      "          \n",
      "calc_euclidean 8.461142312638266\n",
      "calc_mae =  0.09892042832031384\n",
      "     \n",
      "SSP-N[R1_SSP-N(MW)]\n",
      "plant =  SSP-N[R1_SSP-N(MW)]\n",
      "          \n",
      "     correalation     \n",
      "          actual      era5\n",
      "actual  1.000000  0.856454\n",
      "era5    0.856454  1.000000\n",
      "          \n",
      "calc_euclidean 8.683145414413612\n",
      "calc_mae =  0.1063475802154011\n",
      "     \n",
      "EAL-N[R4_EAL-N(MW)]\n",
      "plant =  EAL-N[R4_EAL-N(MW)]\n",
      "          \n",
      "     correalation     \n",
      "          actual      era5\n",
      "actual  1.000000  0.816542\n",
      "era5    0.816542  1.000000\n",
      "          \n",
      "calc_euclidean 9.309483830941764\n",
      "calc_mae =  0.10764373039098916\n",
      "     \n",
      "EAP-N[R4_EAP-N(MW)]\n",
      "plant =  EAP-N[R4_EAP-N(MW)]\n",
      "          \n",
      "     correalation     \n",
      "          actual      era5\n",
      "actual  1.000000  0.839266\n",
      "era5    0.839266  1.000000\n",
      "          \n",
      "calc_euclidean 8.918169876652087\n",
      "calc_mae =  0.10126391758631605\n",
      "     \n"
     ]
    }
   ],
   "source": [
    "import numpy as np\n",
    "\n",
    "def calc_euclidean(actual, predic):\n",
    "    return np.sqrt(np.sum((actual - predic) ** 2))\n",
    "\n",
    "def calc_mae(actual, predic):\n",
    "    return np.mean(np.abs((actual - predic)))\n",
    "\n",
    "\n",
    "print(\" year ======   \",year)\n",
    "print(\"                   \")\n",
    "for name_index in range(len(name_list)):\n",
    "    ts = pd.DataFrame()\n",
    "    ts['actual'] = data_actual[name_list[name_index]]\n",
    "    ts['era5'] = df[name_list[name_index]]\n",
    "    print(name_list[name_index])\n",
    "    ## Pearson Correlation ##   \n",
    "    print('plant = ', name_list[name_index])\n",
    "    print(\"          \")\n",
    "    print(\"     correalation     \")\n",
    "    print(ts.loc[ts['actual'] > 0].corr())\n",
    "    print(\"          \")\n",
    "    print('calc_euclidean',calc_euclidean(ts['actual'].loc[ts['actual'] > 0],ts['era5'].loc[ts['actual'] > 0]))\n",
    "    print('calc_mae = ',calc_mae(ts['actual'].loc[ts['actual'] > 0],ts['era5'].loc[ts['actual'] > 0]))\n",
    "    print(\"     \")\n"
   ]
  }
 ],
 "metadata": {
  "kernelspec": {
   "display_name": "env",
   "language": "python",
   "name": "python3"
  },
  "language_info": {
   "codemirror_mode": {
    "name": "ipython",
    "version": 3
   },
   "file_extension": ".py",
   "mimetype": "text/x-python",
   "name": "python",
   "nbconvert_exporter": "python",
   "pygments_lexer": "ipython3",
   "version": "3.11.9"
  }
 },
 "nbformat": 4,
 "nbformat_minor": 2
}
