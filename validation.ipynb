{
 "cells": [
  {
   "cell_type": "code",
   "execution_count": 65,
   "metadata": {},
   "outputs": [],
   "source": [
    "import pandas as pd\n",
    "import cdsapi\n",
    "import atlite\n",
    "import datetime as dt\n",
    "import matplotlib.pyplot as plt\n",
    "import numpy as np"
   ]
  },
  {
   "cell_type": "code",
   "execution_count": 66,
   "metadata": {},
   "outputs": [
    {
     "name": "stdout",
     "output_type": "stream",
     "text": [
      "Index(['REF', 'BCPG-N[MCC_BCP-N(MW)]', 'EAN-N[R4_EAN-N(MW)]',\n",
      "       'NED-N[R1_NED-N(MW)]', 'SSP-N[R1_SSP-N(MW)]', 'EAL-N[R4_EAL-N(MW)]',\n",
      "       'EAP-N[R4_EAP-N(MW)]'],\n",
      "      dtype='object')\n"
     ]
    }
   ],
   "source": [
    "df = pd.read_excel('CDS_Data_Validation\\\\2019-2022 Solar Profile SPP rev.xlsx', sheet_name = '2019-2022_Central',skiprows=4)\n",
    "df = df.merge(pd.read_excel('CDS_Data_Validation\\\\2019-2022 Solar Profile SPP rev.xlsx', sheet_name = '2019-2022_North',skiprows=4))\n",
    "print(df.columns)"
   ]
  },
  {
   "cell_type": "code",
   "execution_count": 67,
   "metadata": {},
   "outputs": [
    {
     "name": "stdout",
     "output_type": "stream",
     "text": [
      "<class 'pandas.core.frame.DataFrame'>\n",
      "DatetimeIndex: 35065 entries, 2019-01-01 00:00:00 to 2023-01-01 00:00:00\n",
      "Data columns (total 6 columns):\n",
      " #   Column                 Non-Null Count  Dtype  \n",
      "---  ------                 --------------  -----  \n",
      " 0   BCPG-N[MCC_BCP-N(MW)]  35065 non-null  float64\n",
      " 1   EAN-N[R4_EAN-N(MW)]    35065 non-null  float64\n",
      " 2   NED-N[R1_NED-N(MW)]    35065 non-null  float64\n",
      " 3   SSP-N[R1_SSP-N(MW)]    35065 non-null  float64\n",
      " 4   EAL-N[R4_EAL-N(MW)]    35065 non-null  float64\n",
      " 5   EAP-N[R4_EAP-N(MW)]    35065 non-null  float64\n",
      "dtypes: float64(6)\n",
      "memory usage: 1.9 MB\n",
      "None\n"
     ]
    }
   ],
   "source": [
    "### Aggreate to hourly data by using mean function ###\n",
    "df['index_time'] = pd.to_datetime(df[\"REF\"].dt.strftime('%Y-%m-%d-%H'))\n",
    "df = df.drop(columns=['REF'])\n",
    "df = df.groupby(by=[\"index_time\"], dropna=False).mean()\n",
    "print(df.info())"
   ]
  },
  {
   "cell_type": "code",
   "execution_count": 68,
   "metadata": {},
   "outputs": [
    {
     "name": "stdout",
     "output_type": "stream",
     "text": [
      "Index(['BCPG-N[MCC_BCP-N(MW)]', 'EAN-N[R4_EAN-N(MW)]', 'NED-N[R1_NED-N(MW)]',\n",
      "       'SSP-N[R1_SSP-N(MW)]', 'EAL-N[R4_EAL-N(MW)]', 'EAP-N[R4_EAP-N(MW)]'],\n",
      "      dtype='object')\n"
     ]
    }
   ],
   "source": [
    "### To cap the generation by installed capacity  ###\n",
    "print(df.columns)"
   ]
  },
  {
   "cell_type": "code",
   "execution_count": 69,
   "metadata": {},
   "outputs": [
    {
     "name": "stdout",
     "output_type": "stream",
     "text": [
      "<class 'pandas.core.frame.DataFrame'>\n",
      "DatetimeIndex: 35065 entries, 2019-01-01 00:00:00 to 2023-01-01 00:00:00\n",
      "Data columns (total 6 columns):\n",
      " #   Column                 Non-Null Count  Dtype  \n",
      "---  ------                 --------------  -----  \n",
      " 0   BCPG-N[MCC_BCP-N(MW)]  35065 non-null  float64\n",
      " 1   EAN-N[R4_EAN-N(MW)]    35065 non-null  float64\n",
      " 2   NED-N[R1_NED-N(MW)]    35065 non-null  float64\n",
      " 3   SSP-N[R1_SSP-N(MW)]    35065 non-null  float64\n",
      " 4   EAL-N[R4_EAL-N(MW)]    35065 non-null  float64\n",
      " 5   EAP-N[R4_EAP-N(MW)]    35065 non-null  float64\n",
      "dtypes: float64(6)\n",
      "memory usage: 1.9 MB\n",
      "None\n"
     ]
    },
    {
     "name": "stderr",
     "output_type": "stream",
     "text": [
      "C:\\Users\\595078\\AppData\\Local\\Temp\\ipykernel_35732\\1061966536.py:11: FutureWarning: ChainedAssignmentError: behaviour will change in pandas 3.0!\n",
      "You are setting values through chained assignment. Currently this works in certain cases, but when using Copy-on-Write (which will become the default behaviour in pandas 3.0) this will never work to update the original DataFrame or Series, because the intermediate object on which we are setting values will behave as a copy.\n",
      "A typical example is when you are setting values in a column of a DataFrame, like:\n",
      "\n",
      "df[\"col\"][row_indexer] = value\n",
      "\n",
      "Use `df.loc[row_indexer, \"col\"] = values` instead, to perform the assignment in a single step and ensure this keeps updating the original `df`.\n",
      "\n",
      "See the caveats in the documentation: https://pandas.pydata.org/pandas-docs/stable/user_guide/indexing.html#returning-a-view-versus-a-copy\n",
      "\n",
      "  df[df.columns[i]].loc[df[df.columns[i]] > installed_capacity[i]] = installed_capacity[i]\n",
      "C:\\Users\\595078\\AppData\\Local\\Temp\\ipykernel_35732\\1061966536.py:11: FutureWarning: ChainedAssignmentError: behaviour will change in pandas 3.0!\n",
      "You are setting values through chained assignment. Currently this works in certain cases, but when using Copy-on-Write (which will become the default behaviour in pandas 3.0) this will never work to update the original DataFrame or Series, because the intermediate object on which we are setting values will behave as a copy.\n",
      "A typical example is when you are setting values in a column of a DataFrame, like:\n",
      "\n",
      "df[\"col\"][row_indexer] = value\n",
      "\n",
      "Use `df.loc[row_indexer, \"col\"] = values` instead, to perform the assignment in a single step and ensure this keeps updating the original `df`.\n",
      "\n",
      "See the caveats in the documentation: https://pandas.pydata.org/pandas-docs/stable/user_guide/indexing.html#returning-a-view-versus-a-copy\n",
      "\n",
      "  df[df.columns[i]].loc[df[df.columns[i]] > installed_capacity[i]] = installed_capacity[i]\n",
      "C:\\Users\\595078\\AppData\\Local\\Temp\\ipykernel_35732\\1061966536.py:11: FutureWarning: ChainedAssignmentError: behaviour will change in pandas 3.0!\n",
      "You are setting values through chained assignment. Currently this works in certain cases, but when using Copy-on-Write (which will become the default behaviour in pandas 3.0) this will never work to update the original DataFrame or Series, because the intermediate object on which we are setting values will behave as a copy.\n",
      "A typical example is when you are setting values in a column of a DataFrame, like:\n",
      "\n",
      "df[\"col\"][row_indexer] = value\n",
      "\n",
      "Use `df.loc[row_indexer, \"col\"] = values` instead, to perform the assignment in a single step and ensure this keeps updating the original `df`.\n",
      "\n",
      "See the caveats in the documentation: https://pandas.pydata.org/pandas-docs/stable/user_guide/indexing.html#returning-a-view-versus-a-copy\n",
      "\n",
      "  df[df.columns[i]].loc[df[df.columns[i]] > installed_capacity[i]] = installed_capacity[i]\n",
      "C:\\Users\\595078\\AppData\\Local\\Temp\\ipykernel_35732\\1061966536.py:11: FutureWarning: ChainedAssignmentError: behaviour will change in pandas 3.0!\n",
      "You are setting values through chained assignment. Currently this works in certain cases, but when using Copy-on-Write (which will become the default behaviour in pandas 3.0) this will never work to update the original DataFrame or Series, because the intermediate object on which we are setting values will behave as a copy.\n",
      "A typical example is when you are setting values in a column of a DataFrame, like:\n",
      "\n",
      "df[\"col\"][row_indexer] = value\n",
      "\n",
      "Use `df.loc[row_indexer, \"col\"] = values` instead, to perform the assignment in a single step and ensure this keeps updating the original `df`.\n",
      "\n",
      "See the caveats in the documentation: https://pandas.pydata.org/pandas-docs/stable/user_guide/indexing.html#returning-a-view-versus-a-copy\n",
      "\n",
      "  df[df.columns[i]].loc[df[df.columns[i]] > installed_capacity[i]] = installed_capacity[i]\n",
      "C:\\Users\\595078\\AppData\\Local\\Temp\\ipykernel_35732\\1061966536.py:11: FutureWarning: ChainedAssignmentError: behaviour will change in pandas 3.0!\n",
      "You are setting values through chained assignment. Currently this works in certain cases, but when using Copy-on-Write (which will become the default behaviour in pandas 3.0) this will never work to update the original DataFrame or Series, because the intermediate object on which we are setting values will behave as a copy.\n",
      "A typical example is when you are setting values in a column of a DataFrame, like:\n",
      "\n",
      "df[\"col\"][row_indexer] = value\n",
      "\n",
      "Use `df.loc[row_indexer, \"col\"] = values` instead, to perform the assignment in a single step and ensure this keeps updating the original `df`.\n",
      "\n",
      "See the caveats in the documentation: https://pandas.pydata.org/pandas-docs/stable/user_guide/indexing.html#returning-a-view-versus-a-copy\n",
      "\n",
      "  df[df.columns[i]].loc[df[df.columns[i]] > installed_capacity[i]] = installed_capacity[i]\n",
      "C:\\Users\\595078\\AppData\\Local\\Temp\\ipykernel_35732\\1061966536.py:11: FutureWarning: ChainedAssignmentError: behaviour will change in pandas 3.0!\n",
      "You are setting values through chained assignment. Currently this works in certain cases, but when using Copy-on-Write (which will become the default behaviour in pandas 3.0) this will never work to update the original DataFrame or Series, because the intermediate object on which we are setting values will behave as a copy.\n",
      "A typical example is when you are setting values in a column of a DataFrame, like:\n",
      "\n",
      "df[\"col\"][row_indexer] = value\n",
      "\n",
      "Use `df.loc[row_indexer, \"col\"] = values` instead, to perform the assignment in a single step and ensure this keeps updating the original `df`.\n",
      "\n",
      "See the caveats in the documentation: https://pandas.pydata.org/pandas-docs/stable/user_guide/indexing.html#returning-a-view-versus-a-copy\n",
      "\n",
      "  df[df.columns[i]].loc[df[df.columns[i]] > installed_capacity[i]] = installed_capacity[i]\n"
     ]
    }
   ],
   "source": [
    "installed_capacity = [\n",
    "    34.2,\n",
    "    126.126,\n",
    "    73,\n",
    "    52,\n",
    "    128.396,\n",
    "    133.92\n",
    "]\n",
    "\n",
    "for i in range(len(df.columns)):\n",
    "    df[df.columns[i]].loc[df[df.columns[i]] > installed_capacity[i]] = installed_capacity[i]\n",
    "    df[df.columns[i]] = df[df.columns[i]]/installed_capacity[i]\n",
    "\n",
    "\n",
    "data_actual = df.copy()\n",
    "print(data_actual.info())"
   ]
  },
  {
   "cell_type": "code",
   "execution_count": 70,
   "metadata": {},
   "outputs": [],
   "source": [
    "df = pd.DataFrame()\n",
    "df = pd.concat([df,pd.read_csv('CDS_Data_Validation\\\\output_Thailand_Solar_2019_km2_10.0.csv')])\n",
    "df['time_utcadj'] = pd.to_datetime(df['time_utcadj'])\n",
    "# df = pd.concat([df,pd.read_csv('CDS_Data_Validation\\\\output_Thailand_Solar_2020_km2_10.0.csv')])\n",
    "df['time_utcadj'] = pd.to_datetime(df['time_utcadj'])\n",
    "df = pd.concat([df,pd.read_csv('CDS_Data_Validation\\\\output_Thailand_Solar_2021_km2_10.0.csv')])\n",
    "df['time_utcadj'] = pd.to_datetime(df['time_utcadj'])\n",
    "df = pd.concat([df,pd.read_csv('CDS_Data_Validation\\\\output_Thailand_Solar_2022_km2_10.0.csv')])\n",
    "df['time_utcadj'] = pd.to_datetime(df['time_utcadj'])\n",
    "df = df.set_index('time_utcadj')\n",
    "\n",
    "year = 2022\n",
    "df = df.loc[df.index.year == year]\n",
    "data_actual = data_actual.loc[data_actual.index.year == year]\n"
   ]
  },
  {
   "cell_type": "code",
   "execution_count": 71,
   "metadata": {},
   "outputs": [
    {
     "data": {
      "text/plain": [
       "Index(['BCPG-N[MCC_BCP-N(MW)]', 'EAN-N[R4_EAN-N(MW)]', 'NED-N[R1_NED-N(MW)]',\n",
       "       'SSP-N[R1_SSP-N(MW)]', 'EAL-N[R4_EAL-N(MW)]', 'EAP-N[R4_EAP-N(MW)]'],\n",
       "      dtype='object')"
      ]
     },
     "execution_count": 71,
     "metadata": {},
     "output_type": "execute_result"
    }
   ],
   "source": [
    "name_list = data_actual.columns\n",
    "name_list"
   ]
  },
  {
   "cell_type": "code",
   "execution_count": 72,
   "metadata": {},
   "outputs": [
    {
     "name": "stdout",
     "output_type": "stream",
     "text": [
      "BCPG-N[MCC_BCP-N(MW)]\n",
      "Acutal PF =  9.3195\n",
      "ERA5 PF =  16.4997\n",
      "\n",
      "EAN-N[R4_EAN-N(MW)]\n",
      "Acutal PF =  18.2985\n",
      "ERA5 PF =  16.6939\n",
      "\n",
      "NED-N[R1_NED-N(MW)]\n",
      "Acutal PF =  15.936\n",
      "ERA5 PF =  16.7998\n",
      "\n",
      "SSP-N[R1_SSP-N(MW)]\n",
      "Acutal PF =  17.7362\n",
      "ERA5 PF =  16.7998\n",
      "\n",
      "EAL-N[R4_EAL-N(MW)]\n",
      "Acutal PF =  19.492\n",
      "ERA5 PF =  16.3847\n",
      "\n",
      "EAP-N[R4_EAP-N(MW)]\n",
      "Acutal PF =  19.0299\n",
      "ERA5 PF =  16.5736\n",
      "\n"
     ]
    }
   ],
   "source": [
    "for i in name_list:\n",
    "    print(i)\n",
    "    print('Acutal PF = ',np.round(data_actual[i].sum() * 100 /len(data_actual),4))\n",
    "    print('ERA5 PF = ',np.round(df[i].sum() * 100 /len(df),4))\n",
    "    print('')"
   ]
  },
  {
   "cell_type": "code",
   "execution_count": 73,
   "metadata": {},
   "outputs": [
    {
     "name": "stdout",
     "output_type": "stream",
     "text": [
      "BCPG-N[MCC_BCP-N(MW)]\n",
      "Acutal Gen =  816.3845\n",
      "ERA5 Gen =  1445.3701\n",
      "Diff from actual percen  =  77.0\n",
      "\n",
      "EAN-N[R4_EAN-N(MW)]\n",
      "Acutal Gen =  1602.9526\n",
      "ERA5 Gen =  1462.3826\n",
      "Diff from actual percen  =  -8.8\n",
      "\n",
      "NED-N[R1_NED-N(MW)]\n",
      "Acutal Gen =  1395.9952\n",
      "ERA5 Gen =  1471.6584\n",
      "Diff from actual percen  =  5.4\n",
      "\n",
      "SSP-N[R1_SSP-N(MW)]\n",
      "Acutal Gen =  1553.6913\n",
      "ERA5 Gen =  1471.6584\n",
      "Diff from actual percen  =  -5.3\n",
      "\n",
      "EAL-N[R4_EAL-N(MW)]\n",
      "Acutal Gen =  1707.501\n",
      "ERA5 Gen =  1435.3024\n",
      "Diff from actual percen  =  -15.9\n",
      "\n",
      "EAP-N[R4_EAP-N(MW)]\n",
      "Acutal Gen =  1667.0221\n",
      "ERA5 Gen =  1451.8487\n",
      "Diff from actual percen  =  -12.9\n",
      "\n"
     ]
    }
   ],
   "source": [
    "for i in name_list:\n",
    "    print(i)\n",
    "    print('Acutal Gen = ',np.round(data_actual[i].sum(),4))\n",
    "    print('ERA5 Gen = ',np.round(df[i].sum(),4))\n",
    "    print('Diff from actual percen  = ', np.round((df[i].sum() - data_actual[i].sum())*100/data_actual[i].sum(),1))\n",
    "    print('')"
   ]
  },
  {
   "cell_type": "code",
   "execution_count": 74,
   "metadata": {},
   "outputs": [
    {
     "name": "stdout",
     "output_type": "stream",
     "text": [
      "    BCPG-N[MCC_BCP-N(MW)]  EAN-N[R4_EAN-N(MW)]  NED-N[R1_NED-N(MW)]  \\\n",
      "0                    18.2                 -1.5                 10.5   \n",
      "1                    49.9                 -2.9                 13.3   \n",
      "2                    62.8                -12.8                 12.2   \n",
      "3                    84.7                 -8.5                 17.2   \n",
      "4                    43.1                -16.3                 -7.4   \n",
      "5                    43.7                -19.0                 -0.2   \n",
      "6                    33.4                -30.5                 -2.8   \n",
      "7                    77.7                -22.3                 -4.8   \n",
      "8                    45.7                 -9.6                  7.5   \n",
      "9                    83.0                 -4.1                  4.3   \n",
      "10                   39.8                 -2.1                 14.7   \n",
      "11                   46.9                -10.9                 11.1   \n",
      "\n",
      "    SSP-N[R1_SSP-N(MW)]  EAL-N[R4_EAL-N(MW)]  EAP-N[R4_EAP-N(MW)]  \n",
      "0                  26.2                -10.6                 -7.0  \n",
      "1                   7.7                -15.6                 -8.7  \n",
      "2                  -0.6                  1.2                 -8.8  \n",
      "3                 -21.7                -23.7                -17.1  \n",
      "4                 -22.3                -40.1                -32.6  \n",
      "5                 -20.8                -33.3                -34.1  \n",
      "6                 -27.5                -47.4                -33.8  \n",
      "7                  -9.6                -33.0                -30.1  \n",
      "8                 -10.4                -23.9                -17.2  \n",
      "9                  -9.6                -12.4                -11.8  \n",
      "10                  5.6                -18.5                -10.0  \n",
      "11                  0.9                -15.0                 -3.8  \n"
     ]
    }
   ],
   "source": [
    "gen_difffromactual = pd.DataFrame()\n",
    "for i in name_list:\n",
    "    gen_actual_month_list = [(data_actual[i].loc[data_actual.index.month == (j+1)].sum()) for j in range(12)]\n",
    "    gen_era5_month_list = [(df[i].loc[df.index.month == (j+1)].sum()) for j in range(12)]\n",
    "    gen_difffromactual_list = [(gen_era5_month_list[j] - gen_actual_month_list[j]) for j in range(12)]\n",
    "    gen_difffromactual[i] = pd.DataFrame(gen_difffromactual_list)\n",
    "print(np.round(gen_difffromactual,1))"
   ]
  },
  {
   "cell_type": "code",
   "execution_count": 75,
   "metadata": {},
   "outputs": [
    {
     "name": "stdout",
     "output_type": "stream",
     "text": [
      "pf actual =      BCPG-N[MCC_BCP-N(MW)]  EAN-N[R4_EAN-N(MW)]  NED-N[R1_NED-N(MW)]  \\\n",
      "0                    16.1                 18.9                 17.4   \n",
      "1                     9.6                 17.5                 15.3   \n",
      "2                     9.8                 20.4                 17.0   \n",
      "3                     7.1                 20.3                 16.3   \n",
      "4                     9.0                 17.6                 16.3   \n",
      "5                    11.0                 19.7                 17.4   \n",
      "6                    10.3                 18.7                 15.9   \n",
      "7                     3.6                 17.3                 14.7   \n",
      "8                     7.5                 15.1                 12.9   \n",
      "9                     4.7                 17.0                 15.6   \n",
      "10                   11.2                 17.3                 15.1   \n",
      "11                   11.9                 19.8                 17.3   \n",
      "\n",
      "    SSP-N[R1_SSP-N(MW)]  EAL-N[R4_EAL-N(MW)]  EAP-N[R4_EAP-N(MW)]  \n",
      "0                  15.2                 19.9                 19.7  \n",
      "1                  16.1                 20.4                 18.2  \n",
      "2                  18.7                 19.1                 20.8  \n",
      "3                  21.7                 22.3                 22.1  \n",
      "4                  18.3                 20.6                 19.5  \n",
      "5                  20.2                 21.0                 21.0  \n",
      "6                  19.2                 20.7                 18.8  \n",
      "7                  15.4                 17.9                 17.4  \n",
      "8                  15.4                 16.5                 16.5  \n",
      "9                  17.5                 18.3                 18.4  \n",
      "10                 16.4                 19.4                 18.2  \n",
      "11                 18.7                 18.0                 17.7  \n"
     ]
    }
   ],
   "source": [
    "plantfactor_actual_monthly = pd.DataFrame()\n",
    "for i in name_list:\n",
    "    pf_month_list = [(data_actual[i].loc[data_actual.index.month == (j+1)].sum()/len(data_actual.loc[data_actual.index.month == (j+1)])) for j in range(12)]\n",
    "    \n",
    "    plantfactor_actual_monthly[i] = pd.DataFrame(pf_month_list)\n",
    "\n",
    "print(\"pf actual = \",np.round(plantfactor_actual_monthly*100,1))"
   ]
  },
  {
   "cell_type": "code",
   "execution_count": 76,
   "metadata": {},
   "outputs": [
    {
     "name": "stdout",
     "output_type": "stream",
     "text": [
      "pf era5 =      BCPG-N[MCC_BCP-N(MW)]  EAN-N[R4_EAN-N(MW)]  NED-N[R1_NED-N(MW)]  \\\n",
      "0                    18.5                 18.7                 18.8   \n",
      "1                    17.1                 17.0                 17.3   \n",
      "2                    18.3                 18.7                 18.6   \n",
      "3                    18.8                 19.1                 18.7   \n",
      "4                    14.8                 15.4                 15.3   \n",
      "5                    17.1                 17.0                 17.3   \n",
      "6                    14.8                 14.6                 15.5   \n",
      "7                    14.0                 14.3                 14.1   \n",
      "8                    13.8                 13.8                 13.9   \n",
      "9                    15.9                 16.4                 16.2   \n",
      "10                   16.7                 17.0                 17.2   \n",
      "11                   18.2                 18.3                 18.8   \n",
      "\n",
      "    SSP-N[R1_SSP-N(MW)]  EAL-N[R4_EAL-N(MW)]  EAP-N[R4_EAP-N(MW)]  \n",
      "0                  18.8                 18.4                 18.8  \n",
      "1                  17.3                 18.1                 16.9  \n",
      "2                  18.6                 19.2                 19.7  \n",
      "3                  18.7                 19.0                 19.7  \n",
      "4                  15.3                 15.2                 15.2  \n",
      "5                  17.3                 16.4                 16.3  \n",
      "6                  15.5                 14.3                 14.3  \n",
      "7                  14.1                 13.4                 13.4  \n",
      "8                  13.9                 13.2                 14.1  \n",
      "9                  16.2                 16.7                 16.8  \n",
      "10                 17.2                 16.9                 16.8  \n",
      "11                 18.8                 16.0                 17.2  \n"
     ]
    }
   ],
   "source": [
    "plantfactor_era5_monthly = pd.DataFrame()\n",
    "for i in name_list:\n",
    "    pf_month_list = [(df[i].loc[df.index.month == (j+1)].sum()/len(df.loc[df.index.month == (j+1)])) for j in range(12)]\n",
    "    \n",
    "    plantfactor_era5_monthly[i] = pd.DataFrame(pf_month_list)\n",
    "\n",
    "print(\"pf era5 = \",np.round(plantfactor_era5_monthly*100,1))"
   ]
  },
  {
   "cell_type": "code",
   "execution_count": 77,
   "metadata": {},
   "outputs": [
    {
     "name": "stdout",
     "output_type": "stream",
     "text": [
      "    BCPG-N[MCC_BCP-N(MW)]  EAN-N[R4_EAN-N(MW)]  NED-N[R1_NED-N(MW)]  \\\n",
      "0                    15.2                 -1.1                  8.1   \n",
      "1                    77.2                 -2.4                 13.0   \n",
      "2                    85.9                 -8.5                  9.7   \n",
      "3                   166.3                 -5.8                 14.7   \n",
      "4                    64.3                -12.4                 -6.1   \n",
      "5                    55.0                -13.4                 -0.1   \n",
      "6                    43.4                -21.9                 -2.4   \n",
      "7                   293.5                -17.3                 -4.3   \n",
      "8                    84.7                 -8.8                  8.1   \n",
      "9                   236.7                 -3.3                  3.7   \n",
      "10                   49.4                 -1.7                 13.5   \n",
      "11                   53.0                 -7.4                  8.6   \n",
      "\n",
      "    SSP-N[R1_SSP-N(MW)]  EAL-N[R4_EAL-N(MW)]  EAP-N[R4_EAP-N(MW)]  \n",
      "0                  23.1                 -7.2                 -4.8  \n",
      "1                   7.1                -11.3                 -7.1  \n",
      "2                  -0.4                  0.8                 -5.7  \n",
      "3                 -13.9                -14.8                -10.8  \n",
      "4                 -16.4                -26.2                -22.4  \n",
      "5                 -14.3                -22.0                -22.6  \n",
      "6                 -19.2                -30.8                -24.2  \n",
      "7                  -8.4                -24.8                -23.2  \n",
      "8                  -9.4                -20.1                -14.5  \n",
      "9                  -7.4                 -9.1                 -8.6  \n",
      "10                  4.7                -13.2                 -7.7  \n",
      "11                  0.6                -11.2                 -2.9  \n"
     ]
    }
   ],
   "source": [
    "plantfactor_difffromactual = pd.DataFrame()\n",
    "for i in name_list:\n",
    "    pf_actual_month_list = [(data_actual[i].loc[data_actual.index.month == (j+1)].sum()/len(data_actual.loc[data_actual.index.month == (j+1)])) for j in range(12)]\n",
    "    pf_era5_month_list = [(df[i].loc[df.index.month == (j+1)].sum()/len(df.loc[df.index.month == (j+1)])) for j in range(12)]\n",
    "    pf_difffromactual_list = [( pf_era5_month_list[j] - pf_actual_month_list[j] ) / pf_actual_month_list[j] for j in range(12)]\n",
    "    plantfactor_difffromactual[i] = pd.DataFrame(pf_difffromactual_list)\n",
    "print(np.round(plantfactor_difffromactual*100,1))"
   ]
  },
  {
   "cell_type": "markdown",
   "metadata": {},
   "source": [
    "Measure, time series similarity"
   ]
  },
  {
   "cell_type": "code",
   "execution_count": 78,
   "metadata": {},
   "outputs": [
    {
     "data": {
      "text/plain": [
       "Index(['BCPG-N[MCC_BCP-N(MW)]', 'EAN-N[R4_EAN-N(MW)]', 'NED-N[R1_NED-N(MW)]',\n",
       "       'SSP-N[R1_SSP-N(MW)]', 'EAL-N[R4_EAL-N(MW)]', 'EAP-N[R4_EAP-N(MW)]'],\n",
       "      dtype='object')"
      ]
     },
     "execution_count": 78,
     "metadata": {},
     "output_type": "execute_result"
    }
   ],
   "source": [
    "name_list = data_actual.columns\n",
    "name_list"
   ]
  },
  {
   "cell_type": "code",
   "execution_count": 79,
   "metadata": {},
   "outputs": [
    {
     "name": "stdout",
     "output_type": "stream",
     "text": [
      "EAN-N[R4_EAN-N(MW)]\n"
     ]
    },
    {
     "data": {
      "text/plain": [
       "<Axes: xlabel='time_utcadj'>"
      ]
     },
     "execution_count": 79,
     "metadata": {},
     "output_type": "execute_result"
    },
    {
     "data": {
      "image/png": "[encoded data removed]",
      "text/plain": [
       "<Figure size 640x480 with 1 Axes>"
      ]
     },
     "metadata": {},
     "output_type": "display_data"
    }
   ],
   "source": [
    "name_index = 1\n",
    "day = 200\n",
    "spanday = 10\n",
    "print(name_list[name_index])\n",
    "data_actual[name_list[name_index]][(day*24):((day*24)+(24*spanday))].plot()\n",
    "df[name_list[name_index]][(day*24):((day*24)+(24*spanday))].plot()\n"
   ]
  },
  {
   "cell_type": "code",
   "execution_count": 80,
   "metadata": {},
   "outputs": [
    {
     "name": "stdout",
     "output_type": "stream",
     "text": [
      " year ======    2022\n",
      "                   \n",
      "BCPG-N[MCC_BCP-N(MW)]\n",
      "plant =  BCPG-N[MCC_BCP-N(MW)]\n",
      "          \n",
      "     correalation     \n",
      "          actual      era5\n",
      "actual  1.000000  0.829783\n",
      "era5    0.829783  1.000000\n",
      "          \n",
      "calc_euclidean 6.716779814220589\n",
      "calc_mape =  0.0934486055913102\n",
      "     \n",
      "EAN-N[R4_EAN-N(MW)]\n",
      "plant =  EAN-N[R4_EAN-N(MW)]\n",
      "          \n",
      "     correalation     \n",
      "          actual      era5\n",
      "actual  1.000000  0.834117\n",
      "era5    0.834117  1.000000\n",
      "          \n",
      "calc_euclidean 8.792678173644473\n",
      "calc_mape =  0.10225749850793496\n",
      "     \n",
      "NED-N[R1_NED-N(MW)]\n",
      "plant =  NED-N[R1_NED-N(MW)]\n",
      "          \n",
      "     correalation     \n",
      "          actual      era5\n",
      "actual  1.000000  0.811932\n",
      "era5    0.811932  1.000000\n",
      "          \n",
      "calc_euclidean 8.605810744180086\n",
      "calc_mape =  0.1000250631251827\n",
      "     \n",
      "SSP-N[R1_SSP-N(MW)]\n",
      "plant =  SSP-N[R1_SSP-N(MW)]\n",
      "          \n",
      "     correalation     \n",
      "          actual      era5\n",
      "actual  1.000000  0.839148\n",
      "era5    0.839148  1.000000\n",
      "          \n",
      "calc_euclidean 9.14426248519476\n",
      "calc_mape =  0.10484517203470642\n",
      "     \n",
      "EAL-N[R4_EAL-N(MW)]\n",
      "plant =  EAL-N[R4_EAL-N(MW)]\n",
      "          \n",
      "     correalation     \n",
      "          actual      era5\n",
      "actual  1.000000  0.815024\n",
      "era5    0.815024  1.000000\n",
      "          \n",
      "calc_euclidean 10.578545371671165\n",
      "calc_mape =  0.12191354414589561\n",
      "     \n",
      "EAP-N[R4_EAP-N(MW)]\n",
      "plant =  EAP-N[R4_EAP-N(MW)]\n",
      "          \n",
      "     correalation     \n",
      "          actual      era5\n",
      "actual  1.000000  0.831767\n",
      "era5    0.831767  1.000000\n",
      "          \n",
      "calc_euclidean 9.3744560580243\n",
      "calc_mape =  0.10384840213954431\n",
      "     \n"
     ]
    }
   ],
   "source": [
    "import numpy as np\n",
    "\n",
    "def calc_euclidean(actual, predic):\n",
    "    return np.sqrt(np.sum((actual - predic) ** 2))\n",
    "\n",
    "def calc_mae(actual, predic):\n",
    "    return np.mean(np.abs((actual - predic)))\n",
    "\n",
    "\n",
    "print(\" year ======   \",year)\n",
    "print(\"                   \")\n",
    "for name_index in range(len(name_list)):\n",
    "    ts = pd.DataFrame()\n",
    "    ts['actual'] = data_actual[name_list[name_index]]\n",
    "    ts['era5'] = df[name_list[name_index]]\n",
    "    print(name_list[name_index])\n",
    "    ## Pearson Correlation ##   \n",
    "    print('plant = ', name_list[name_index])\n",
    "    print(\"          \")\n",
    "    print(\"     correalation     \")\n",
    "    print(ts.loc[ts['actual'] > 0].corr())\n",
    "    print(\"          \")\n",
    "    print('calc_euclidean',calc_euclidean(ts['actual'].loc[ts['actual'] > 0],ts['era5'].loc[ts['actual'] > 0]))\n",
    "    print('calc_mape = ',calc_mae(ts['actual'].loc[ts['actual'] > 0],ts['era5'].loc[ts['actual'] > 0]))\n",
    "    print(\"     \")\n"
   ]
  }
 ],
 "metadata": {
  "kernelspec": {
   "display_name": "env",
   "language": "python",
   "name": "python3"
  },
  "language_info": {
   "codemirror_mode": {
    "name": "ipython",
    "version": 3
   },
   "file_extension": ".py",
   "mimetype": "text/x-python",
   "name": "python",
   "nbconvert_exporter": "python",
   "pygments_lexer": "ipython3",
   "version": "3.11.9"
  }
 },
 "nbformat": 4,
 "nbformat_minor": 2
}
