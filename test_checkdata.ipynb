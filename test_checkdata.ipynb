{
 "cells": [
  {
   "cell_type": "code",
   "execution_count": 16,
   "metadata": {},
   "outputs": [],
   "source": [
    "import geopandas as gpd\n",
    "import xarray as xr\n",
    "import numpy as np\n",
    "import matplotlib.pyplot as plt\n",
    "import shapely.wkt\n",
    "import shapely.geometry\n",
    "import pandas as pd\n",
    "import shapely.geometry.multipolygon as sh"
   ]
  },
  {
   "cell_type": "code",
   "execution_count": 17,
   "metadata": {},
   "outputs": [
    {
     "name": "stdout",
     "output_type": "stream",
     "text": [
      "<xarray.Dataset> Size: 251MB\n",
      "Dimensions:               (x: 33, y: 59, time: 2928)\n",
      "Coordinates:\n",
      "  * x                     (x) float64 264B 97.5 97.75 98.0 ... 105.0 105.2 105.5\n",
      "  * y                     (y) float64 472B 5.75 6.0 6.25 ... 19.75 20.0 20.25\n",
      "  * time                  (time) datetime64[ns] 23kB 2015-12-31 ... 2016-04-3...\n",
      "    lon                   (x) float64 264B ...\n",
      "    lat                   (y) float64 472B ...\n",
      "Data variables:\n",
      "    height                (y, x) float32 8kB ...\n",
      "    influx_toa            (time, y, x) float32 23MB ...\n",
      "    influx_direct         (time, y, x) float32 23MB ...\n",
      "    influx_diffuse        (time, y, x) float32 23MB ...\n",
      "    albedo                (time, y, x) float32 23MB ...\n",
      "    solar_altitude        (time, y, x) float64 46MB ...\n",
      "    solar_azimuth         (time, y, x) float64 46MB ...\n",
      "    temperature           (time, y, x) float32 23MB ...\n",
      "    soil temperature      (time, y, x) float32 23MB ...\n",
      "    dewpoint temperature  (time, y, x) float32 23MB ...\n",
      "Attributes:\n",
      "    module:                  era5\n",
      "    prepared_features:       ['height', 'temperature', 'influx']\n",
      "    chunksize_time:          100\n",
      "    dt:                      h\n",
      "    dx:                      0.25\n",
      "    dy:                      0.25\n",
      "    GRIB_centre:             ecmf\n",
      "    GRIB_centreDescription:  European Centre for Medium-Range Weather Forecasts\n",
      "    GRIB_subCentre:          0\n",
      "    Conventions:             CF-1.7\n",
      "    institution:             European Centre for Medium-Range Weather Forecasts\n",
      "    history:                 2024-09-14T10:33 GRIB to CDM+CF via cfgrib-0.9.1...\n"
     ]
    }
   ],
   "source": [
    "test = xr.open_dataset('test_2016.nc')\n",
    "print(test)"
   ]
  },
  {
   "cell_type": "code",
   "execution_count": 18,
   "metadata": {},
   "outputs": [
    {
     "name": "stderr",
     "output_type": "stream",
     "text": [
      "/Users/narasetsinsang/workstation/generationprofile_solarwind/env/lib/python3.11/site-packages/pyproj/crs/crs.py:141: FutureWarning: '+init=<authority>:<code>' syntax is deprecated. '<authority>:<code>' is the preferred initialization method. When making the change, be mindful of axis order changes: https://pyproj4.github.io/pyproj/stable/gotchas.html#axis-order-changes-in-proj-6\n",
      "  in_crs_string = _prepare_from_proj_string(in_crs_string)\n",
      "/var/folders/rx/tstwq_0j2fs2k5dh4m8xnhdc0000gn/T/ipykernel_10071/3527107716.py:4: DeprecationWarning: The 'unary_union' attribute is deprecated, use the 'union_all()' method instead.\n",
      "  min_lon = thailandmap.unary_union.bounds[0]\n",
      "/var/folders/rx/tstwq_0j2fs2k5dh4m8xnhdc0000gn/T/ipykernel_10071/3527107716.py:5: DeprecationWarning: The 'unary_union' attribute is deprecated, use the 'union_all()' method instead.\n",
      "  max_lon = thailandmap.unary_union.bounds[2]\n",
      "/var/folders/rx/tstwq_0j2fs2k5dh4m8xnhdc0000gn/T/ipykernel_10071/3527107716.py:6: DeprecationWarning: The 'unary_union' attribute is deprecated, use the 'union_all()' method instead.\n",
      "  max_lat = thailandmap.unary_union.bounds[1]\n",
      "/var/folders/rx/tstwq_0j2fs2k5dh4m8xnhdc0000gn/T/ipykernel_10071/3527107716.py:7: DeprecationWarning: The 'unary_union' attribute is deprecated, use the 'union_all()' method instead.\n",
      "  min_lat = thailandmap.unary_union.bounds[3]\n"
     ]
    },
    {
     "name": "stdout",
     "output_type": "stream",
     "text": [
      "    Shape_Leng  Shape_Area                   ADM1_EN          ADM1_TH  \\\n",
      "0     2.417227    0.131339                   Bangkok    กรุงเทพมหานคร   \n",
      "1     1.695100    0.079262              Samut Prakan      สมุทรปราการ   \n",
      "2     1.251111    0.053238                Nonthaburi          นนทบุรี   \n",
      "3     1.884945    0.126983              Pathum Thani         ปทุมธานี   \n",
      "4     3.041716    0.213938  Phra Nakhon Si Ayutthaya  พระนครศรีอยุธยา   \n",
      "..         ...         ...                       ...              ...   \n",
      "72    5.192570    0.385879                     Trang             ตรัง   \n",
      "73    3.257829    0.316268               Phatthalung           พัทลุง   \n",
      "74    2.820830    0.160825                   Pattani          ปัตตานี   \n",
      "75    4.839230    0.365448                      Yala             ยะลา   \n",
      "76    3.456840    0.366648                Narathiwat         นราธิวาส   \n",
      "\n",
      "   ADM1_PCODE ADM1_REF ADM1ALT1EN ADM1ALT2EN ADM1ALT1TH ADM1ALT2TH   ADM0_EN  \\\n",
      "0        TH10     None       None       None       None       None  Thailand   \n",
      "1        TH11     None       None       None       None       None  Thailand   \n",
      "2        TH12     None       None       None       None       None  Thailand   \n",
      "3        TH13     None       None       None       None       None  Thailand   \n",
      "4        TH14     None       None       None       None       None  Thailand   \n",
      "..        ...      ...        ...        ...        ...        ...       ...   \n",
      "72       TH92     None       None       None       None       None  Thailand   \n",
      "73       TH93     None       None       None       None       None  Thailand   \n",
      "74       TH94     None       None       None       None       None  Thailand   \n",
      "75       TH95     None       None       None       None       None  Thailand   \n",
      "76       TH96     None       None       None       None       None  Thailand   \n",
      "\n",
      "      ADM0_TH ADM0_PCODE       date    validOn     validTo  \\\n",
      "0   ประเทศไทย         TH 2019-02-18 2022-01-22  0000/00/00   \n",
      "1   ประเทศไทย         TH 2019-02-18 2022-01-22  0000/00/00   \n",
      "2   ประเทศไทย         TH 2019-02-18 2022-01-22  0000/00/00   \n",
      "3   ประเทศไทย         TH 2019-02-18 2022-01-22  0000/00/00   \n",
      "4   ประเทศไทย         TH 2019-02-18 2022-01-22  0000/00/00   \n",
      "..        ...        ...        ...        ...         ...   \n",
      "72  ประเทศไทย         TH 2019-02-18 2022-01-22  0000/00/00   \n",
      "73  ประเทศไทย         TH 2019-02-18 2022-01-22  0000/00/00   \n",
      "74  ประเทศไทย         TH 2019-02-18 2022-01-22  0000/00/00   \n",
      "75  ประเทศไทย         TH 2019-02-18 2022-01-22  0000/00/00   \n",
      "76  ประเทศไทย         TH 2019-02-18 2022-01-22  0000/00/00   \n",
      "\n",
      "                                             geometry  \n",
      "0   POLYGON ((100.61389 13.95462, 100.61428 13.954...  \n",
      "1   POLYGON ((100.73059 13.71713, 100.73066 13.716...  \n",
      "2   POLYGON ((100.3415 14.10079, 100.34149 14.1000...  \n",
      "3   POLYGON ((100.89157 14.24576, 100.89159 14.243...  \n",
      "4   POLYGON ((100.51309 14.6563, 100.51323 14.6562...  \n",
      "..                                                ...  \n",
      "72  MULTIPOLYGON (((99.47579 6.97262, 99.47565 6.9...  \n",
      "73  POLYGON ((99.96416 7.90199, 99.9642 7.90191, 9...  \n",
      "74  POLYGON ((101.28265 6.95205, 101.28388 6.95182...  \n",
      "75  POLYGON ((101.29272 6.68112, 101.29369 6.67953...  \n",
      "76  POLYGON ((101.63229 6.62622, 101.6326 6.62434,...  \n",
      "\n",
      "[77 rows x 17 columns]\n"
     ]
    }
   ],
   "source": [
    "## First, I try to create a bouadary of THialand for acquiring data##\n",
    "thailandmap = gpd.read_file('assets/tha_admbnda_adm1_rtsd_20220121/tha_admbnda_adm1_rtsd_20220121.shp')\n",
    "thailandmap.crs = {'init': 'epsg:4326'}\n",
    "min_lon = thailandmap.unary_union.bounds[0]\n",
    "max_lon = thailandmap.unary_union.bounds[2]\n",
    "max_lat = thailandmap.unary_union.bounds[1]\n",
    "min_lat = thailandmap.unary_union.bounds[3]\n",
    "print(thailandmap)"
   ]
  },
  {
   "cell_type": "code",
   "execution_count": 19,
   "metadata": {},
   "outputs": [
    {
     "name": "stdout",
     "output_type": "stream",
     "text": [
      "<xarray.DataArray 'time' (time: 2928)> Size: 23kB\n",
      "array(['2015-12-31T00:00:00.000000000', '2015-12-31T01:00:00.000000000',\n",
      "       '2015-12-31T02:00:00.000000000', ..., '2016-04-30T21:00:00.000000000',\n",
      "       '2016-04-30T22:00:00.000000000', '2016-04-30T23:00:00.000000000'],\n",
      "      dtype='datetime64[ns]')\n",
      "Coordinates:\n",
      "  * time     (time) datetime64[ns] 23kB 2015-12-31 ... 2016-04-30T23:00:00\n"
     ]
    }
   ],
   "source": [
    "print(test.time)"
   ]
  },
  {
   "cell_type": "code",
   "execution_count": 26,
   "metadata": {},
   "outputs": [
    {
     "data": {
      "text/plain": [
       "(array([      0.,       0.,       0.,       0.,       0., 5700816.,\n",
       "              0.,       0.,       0.,       0.]),\n",
       " array([-0.5       , -0.40000001, -0.30000001, -0.2       , -0.1       ,\n",
       "         0.        ,  0.1       ,  0.2       ,  0.30000001,  0.40000001,\n",
       "         0.5       ]),\n",
       " <BarContainer object of 10 artists>)"
      ]
     },
     "execution_count": 26,
     "metadata": {},
     "output_type": "execute_result"
    },
    {
     "data": {
      "image/png": "[encoded data removed]",
      "text/plain": [
       "<Figure size 1000x1000 with 1 Axes>"
      ]
     },
     "metadata": {},
     "output_type": "display_data"
    }
   ],
   "source": [
    "fig, ax = plt.subplots(figsize=(10,10))\n",
    "fig.suptitle(str(type), fontsize=16)\n",
    "thailandmap.plot(ax = ax, color='none', edgecolor = 'black', zorder = 0,alpha = 0.1)\n",
    "test['influx_direct'].where(test.time == '2019-12-31T12:00:00.000000000').fillna(0).plot(ax = ax, zorder = 1)"
   ]
  }
 ],
 "metadata": {
  "kernelspec": {
   "display_name": "env",
   "language": "python",
   "name": "python3"
  },
  "language_info": {
   "codemirror_mode": {
    "name": "ipython",
    "version": 3
   },
   "file_extension": ".py",
   "mimetype": "text/x-python",
   "name": "python",
   "nbconvert_exporter": "python",
   "pygments_lexer": "ipython3",
   "version": "3.11.9"
  }
 },
 "nbformat": 4,
 "nbformat_minor": 2
}
